{
 "cells": [
  {
   "cell_type": "code",
   "execution_count": 1,
   "id": "ce9a7309",
   "metadata": {},
   "outputs": [],
   "source": [
    "import matplotlib.pyplot as plt\n",
    "import pandas as pd\n",
    "import time, os\n",
    "import random\n",
    "import numpy as np\n",
    "%matplotlib inline"
   ]
  },
  {
   "cell_type": "code",
   "execution_count": null,
   "id": "81254afe",
   "metadata": {},
   "outputs": [],
   "source": [
    "data_dir = os.path.join(os.getcwd(), \"mediciones\")\n",
    "os.listdir(data_dir)"
   ]
  },
  {
   "cell_type": "code",
   "execution_count": null,
   "id": "8b0270a5",
   "metadata": {},
   "outputs": [],
   "source": [
    "import json\n",
    "\n",
    "final_data = []\n",
    "final_labels = []\n",
    "DATA_LEN = 64\n",
    "\n",
    "for file in [\"normal.txt\", \"load_imbalance.txt\", \"frontal_imbalance.txt\", \"lateral_imbalance.txt\", \"load_fail.txt\"]:\n",
    "    data_file = os.path.join(data_dir, file)\n",
    "    with open(data_file, 'r') as f:\n",
    "        data = json.loads(f.read())\n",
    "    if file == \"normal.txt\":\n",
    "        data = [element for element in data]\n",
    "    if file == \"frontal_imbalance.txt\":\n",
    "        data = [element for element in data]\n",
    "    if file == \"latera_imbalance.txt\":\n",
    "        data = [element for element in data]\n",
    "    if file == \"load_imbalance.txt\":\n",
    "        data = [element for element in data]\n",
    "        \n",
    "    data = np.array(data)\n",
    "    data = data.reshape(int(len(data)/DATA_LEN), DATA_LEN)\n",
    "    \n",
    "    label = [file.replace(\".txt\",\"\") for x in range(len(data))]\n",
    "    labels = np.array(label)\n",
    "    print(data.shape, labels.shape)\n",
    "    \n",
    "    final_data.append(data)\n",
    "    final_labels.append(labels)"
   ]
  }
 ],
 "metadata": {
  "kernelspec": {
   "display_name": "Python 3.8.10 64-bit",
   "language": "python",
   "name": "python3810jvsc74a57bd0e7370f93d1d0cde622a1f8e1c04877d8463912d04d973331ad4851f04de6915a"
  },
  "language_info": {
   "codemirror_mode": {
    "name": "ipython",
    "version": 3
   },
   "file_extension": ".py",
   "mimetype": "text/x-python",
   "name": "python",
   "nbconvert_exporter": "python",
   "pygments_lexer": "ipython3",
   "version": "3.8.10"
  }
 },
 "nbformat": 4,
 "nbformat_minor": 5
}
