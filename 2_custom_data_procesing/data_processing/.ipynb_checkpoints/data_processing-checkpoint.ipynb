{
 "cells": [
  {
   "cell_type": "code",
   "execution_count": 25,
   "id": "ce9a7309",
   "metadata": {},
   "outputs": [],
   "source": [
    "import matplotlib.pyplot as plt\n",
    "import pandas as pd\n",
    "import time, os\n",
    "import random\n",
    "import numpy as np\n",
    "%matplotlib inline"
   ]
  },
  {
   "cell_type": "code",
   "execution_count": 26,
   "id": "81254afe",
   "metadata": {},
   "outputs": [
    {
     "data": {
      "text/plain": [
       "['con_polea.txt',\n",
       " 'polea_peso_15g.txt',\n",
       " 'polea_peso_22g.txt',\n",
       " 'polea_peso_30g.txt',\n",
       " 'polea_peso_30gmueve.txt',\n",
       " 'polea_peso_7g.txt',\n",
       " 'polea_peso_9g.txt',\n",
       " 'sin_polea.txt']"
      ]
     },
     "execution_count": 26,
     "metadata": {},
     "output_type": "execute_result"
    }
   ],
   "source": [
    "data_dir = os.path.join(os.getcwd(), \"tuercas\")\n",
    "os.listdir(data_dir)"
   ]
  },
  {
   "cell_type": "code",
   "execution_count": 28,
   "id": "8b0270a5",
   "metadata": {},
   "outputs": [
    {
     "name": "stdout",
     "output_type": "stream",
     "text": [
      "con_polea.txt\n",
      "(1024, 64) (1024,)\n",
      "polea_peso_9g\n"
     ]
    },
    {
     "ename": "FileNotFoundError",
     "evalue": "[Errno 2] No such file or directory: '/mnt/shared/UTN/Proyecto/dplab/tesis/2021_PedroWozniak/utils/data_processing/tuercas/polea_peso_9g'",
     "output_type": "error",
     "traceback": [
      "\u001b[0;31m---------------------------------------------------------------------------\u001b[0m",
      "\u001b[0;31mFileNotFoundError\u001b[0m                         Traceback (most recent call last)",
      "\u001b[0;32m/tmp/ipykernel_404398/518804970.py\u001b[0m in \u001b[0;36m<module>\u001b[0;34m\u001b[0m\n\u001b[1;32m     10\u001b[0m     \u001b[0mdata_file\u001b[0m \u001b[0;34m=\u001b[0m \u001b[0mos\u001b[0m\u001b[0;34m.\u001b[0m\u001b[0mpath\u001b[0m\u001b[0;34m.\u001b[0m\u001b[0mjoin\u001b[0m\u001b[0;34m(\u001b[0m\u001b[0mdata_dir\u001b[0m\u001b[0;34m,\u001b[0m \u001b[0mfile\u001b[0m\u001b[0;34m)\u001b[0m\u001b[0;34m\u001b[0m\u001b[0;34m\u001b[0m\u001b[0m\n\u001b[1;32m     11\u001b[0m     \u001b[0mprint\u001b[0m\u001b[0;34m(\u001b[0m\u001b[0mfile\u001b[0m\u001b[0;34m)\u001b[0m\u001b[0;34m\u001b[0m\u001b[0;34m\u001b[0m\u001b[0m\n\u001b[0;32m---> 12\u001b[0;31m     \u001b[0;32mwith\u001b[0m \u001b[0mopen\u001b[0m\u001b[0;34m(\u001b[0m\u001b[0mdata_file\u001b[0m\u001b[0;34m,\u001b[0m \u001b[0;34m'r'\u001b[0m\u001b[0;34m)\u001b[0m \u001b[0;32mas\u001b[0m \u001b[0mf\u001b[0m\u001b[0;34m:\u001b[0m\u001b[0;34m\u001b[0m\u001b[0;34m\u001b[0m\u001b[0m\n\u001b[0m\u001b[1;32m     13\u001b[0m         \u001b[0mdata\u001b[0m \u001b[0;34m=\u001b[0m \u001b[0mjson\u001b[0m\u001b[0;34m.\u001b[0m\u001b[0mloads\u001b[0m\u001b[0;34m(\u001b[0m\u001b[0mf\u001b[0m\u001b[0;34m.\u001b[0m\u001b[0mread\u001b[0m\u001b[0;34m(\u001b[0m\u001b[0;34m)\u001b[0m\u001b[0;34m)\u001b[0m\u001b[0;34m\u001b[0m\u001b[0;34m\u001b[0m\u001b[0m\n\u001b[1;32m     14\u001b[0m     \u001b[0;32mif\u001b[0m \u001b[0mfile\u001b[0m \u001b[0;34m==\u001b[0m \u001b[0;34m\"normal.txt\"\u001b[0m\u001b[0;34m:\u001b[0m\u001b[0;34m\u001b[0m\u001b[0;34m\u001b[0m\u001b[0m\n",
      "\u001b[0;31mFileNotFoundError\u001b[0m: [Errno 2] No such file or directory: '/mnt/shared/UTN/Proyecto/dplab/tesis/2021_PedroWozniak/utils/data_processing/tuercas/polea_peso_9g'"
     ]
    },
    {
     "data": {
      "image/png": "[encoded data removed]",
      "text/plain": [
       "<Figure size 432x288 with 1 Axes>"
      ]
     },
     "metadata": {
      "needs_background": "light"
     },
     "output_type": "display_data"
    }
   ],
   "source": [
    "import json\n",
    "\n",
    "final_data = []\n",
    "final_labels = []\n",
    "DATA_LEN = 64\n",
    "\n",
    "files = [\"con_polea.txt\", \"polea_peso_9g.txt\", \"polea_peso_15g.txt\", \"polea_peso_22g.txt\", \"polea_peso_30g.txt\"]\n",
    "\n",
    "for file in files:\n",
    "    data_file = os.path.join(data_dir, file)\n",
    "    print(file)\n",
    "    with open(data_file, 'r') as f:\n",
    "        data = json.loads(f.read())\n",
    "    if file == \"normal.txt\":\n",
    "        data = [element for element in data]\n",
    "    if file == \"frontal_imbalance.txt\":\n",
    "        data = [element for element in data]\n",
    "    if file == \"latera_imbalance.txt\":\n",
    "        data = [element for element in data]\n",
    "    if file == \"load_imbalance.txt\":\n",
    "        data = [element for element in data]\n",
    "    \n",
    "    plt.figure()\n",
    "    plt.plot(data)\n",
    "    data = np.array(data)\n",
    "    data = data.reshape(int(len(data)/DATA_LEN), DATA_LEN)\n",
    "    \n",
    "    label = [file.replace(\".txt\",\"\") for x in range(len(data))]\n",
    "    labels = np.array(label)\n",
    "    print(data.shape, labels.shape)\n",
    "    \n",
    "    final_data.append(data)\n",
    "    final_labels.append(labels)"
   ]
  },
  {
   "cell_type": "code",
   "execution_count": 21,
   "id": "965f83de",
   "metadata": {},
   "outputs": [
    {
     "data": {
      "text/plain": [
       "((3, 1024, 64), (3, 1024))"
      ]
     },
     "execution_count": 21,
     "metadata": {},
     "output_type": "execute_result"
    }
   ],
   "source": [
    "final_data = np.array(final_data)\n",
    "final_labels = np.array(final_labels)\n",
    "final_data.shape, final_labels.shape"
   ]
  },
  {
   "cell_type": "code",
   "execution_count": 22,
   "id": "e101e09c",
   "metadata": {},
   "outputs": [],
   "source": [
    "final_data = final_data.reshape(-1, final_data.shape[-1])\n",
    "final_labels = final_labels.reshape(-1)"
   ]
  },
  {
   "cell_type": "code",
   "execution_count": 23,
   "id": "a94ed9f4",
   "metadata": {},
   "outputs": [
    {
     "data": {
      "text/plain": [
       "((3072, 64), (3072,))"
      ]
     },
     "execution_count": 23,
     "metadata": {},
     "output_type": "execute_result"
    }
   ],
   "source": [
    "final_data.shape, final_labels.shape"
   ]
  },
  {
   "cell_type": "code",
   "execution_count": 24,
   "id": "515fa0ba",
   "metadata": {},
   "outputs": [],
   "source": [
    "np.savez(\"measurements_tuerca_{}_sin7g.npz\".format(DATA_LEN), data=final_data, labels=final_labels)"
   ]
  },
  {
   "cell_type": "code",
   "execution_count": 9,
   "id": "75211a5f",
   "metadata": {},
   "outputs": [
    {
     "data": {
      "text/plain": [
       "(1280, 256)"
      ]
     },
     "execution_count": 9,
     "metadata": {},
     "output_type": "execute_result"
    }
   ],
   "source": [
    "final_data.shape"
   ]
  }
 ],
 "metadata": {
  "kernelspec": {
   "display_name": "Python 3.8.10 64-bit",
   "language": "python",
   "name": "python3810jvsc74a57bd0e7370f93d1d0cde622a1f8e1c04877d8463912d04d973331ad4851f04de6915a"
  },
  "language_info": {
   "codemirror_mode": {
    "name": "ipython",
    "version": 3
   },
   "file_extension": ".py",
   "mimetype": "text/x-python",
   "name": "python",
   "nbconvert_exporter": "python",
   "pygments_lexer": "ipython3",
   "version": "3.8.10"
  }
 },
 "nbformat": 4,
 "nbformat_minor": 5
}
