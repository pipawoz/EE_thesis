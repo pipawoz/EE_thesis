{
 "cells": [
  {
   "cell_type": "markdown",
   "id": "6146ad8a",
   "metadata": {},
   "source": [
    "## Imports"
   ]
  },
  {
   "cell_type": "code",
   "execution_count": 15,
   "id": "bad41035",
   "metadata": {},
   "outputs": [],
   "source": [
    "import os\n",
    "import time\n",
    "\n",
    "os.environ['TF_CPP_MIN_LOG_LEVEL'] = '2' # elimino warnings de tensorflow-gpu\n",
    "\n",
    "import logging\n",
    "import random\n",
    "from pathlib import Path\n",
    "\n",
    "import matplotlib.pyplot as plt\n",
    "import pandas as pd\n",
    "import numpy as np\n",
    "import sklearn\n",
    "import tensorflow as tf\n",
    "from tensorflow import keras\n",
    "from qkeras.qlayers import QActivation, QDense\n",
    "from qkeras.quantizers import quantized_bits, quantized_relu\n",
    "from sklearn.metrics import accuracy_score\n",
    "from sklearn.model_selection import train_test_split\n",
    "from sklearn.preprocessing import LabelEncoder, StandardScaler\n",
    "from tensorflow import keras\n",
    "from tensorflow.keras import layers, regularizers\n",
    "from tensorflow.keras.layers import Activation, Dense\n",
    "from tensorflow.keras.models import Sequential\n",
    "from tensorflow.keras.optimizers import Adam\n",
    "from tensorflow.keras.regularizers import l1, l2\n",
    "from tensorflow.keras.utils import to_categorical\n",
    "from tensorflow_model_optimization.python.core.sparsity.keras import (\n",
    "    prune, pruning_callbacks, pruning_schedule)\n",
    "from tensorflow_model_optimization.sparsity.keras import strip_pruning\n",
    "\n",
    "from qkeras.utils import model_save_quantized_weights\n",
    "\n",
    "from callbacks import all_callbacks"
   ]
  },
  {
   "cell_type": "markdown",
   "id": "7dfd4852",
   "metadata": {},
   "source": [
    "## Procesamiento de Datos"
   ]
  },
  {
   "cell_type": "markdown",
   "id": "5d8cebd6",
   "metadata": {},
   "source": [
    "Cambiar DATA_LENGTH (256 o 64). 256 No entra en Zybo pero da mejor resultado en la prediccion.\n",
    "Se carga el archivo correspondiente"
   ]
  },
  {
   "cell_type": "code",
   "execution_count": 3,
   "id": "8b33cb99",
   "metadata": {},
   "outputs": [
    {
     "name": "stdout",
     "output_type": "stream",
     "text": [
      "Carga Dataset\n",
      "File Data Shape:  (5120, 64) (5120,)\n",
      "Imported File Data Shape: (5120, 64) (5120,)\n",
      "Category Labels ['frontal_imbalance' 'lateral_imbalance' 'load_fail' 'load_imbalance'\n",
      " 'normal']\n",
      "Train Data:  (4096, 64) (4096, 5)\n",
      "Test Data:  (1024, 64) (1024, 5)\n"
     ]
    }
   ],
   "source": [
    "logging.getLogger('tensorflow').setLevel(logging.ERROR)  # suppress warnings\n",
    "tf.get_logger().setLevel('ERROR')\n",
    "\n",
    "VIVADO_PATH = '/mnt/shared/Vivado/2019.2/bin:'\n",
    "\n",
    "os.environ['PATH'] = VIVADO_PATH + os.environ['PATH']\n",
    "\n",
    "DATA_LENGHT = 64\n",
    "OUTPUT_FOLDER = \"zybo{}_build\".format(DATA_LENGHT)\n",
    "Path(\"{}\".format(OUTPUT_FOLDER)).mkdir(parents=True, exist_ok=True)\n",
    "\n",
    "print(\"Carga Dataset\")\n",
    "file = np.load('./measurements_orig_{}.npz'.format(DATA_LENGHT))\n",
    "# file = np.load('./measurements_orig_64.npz')\n",
    "\n",
    "DATA_LENGTH = file['data'].shape[1]\n",
    "\n",
    "filedata = file['data'].reshape(len(file['data']), DATA_LENGTH)\n",
    "labels = file['labels']\n",
    "print(\"File Data Shape: \", filedata.shape, labels.shape)\n",
    "\n",
    "factor = 1\n",
    "\n",
    "data = filedata.reshape(len(file['data'])*factor, DATA_LENGTH//factor)\n",
    "\n",
    "labels_64 = []\n",
    "for label in labels:\n",
    "    for i in range(factor):\n",
    "        labels_64.append(label)    \n",
    "\n",
    "labels_64 = np.array(labels_64)\n",
    "print(\"Imported File Data Shape:\", data.shape, labels_64.shape)\n",
    "\n",
    "category_labels = np.unique(labels_64)\n",
    "print(\"Category Labels\", category_labels)\n",
    "\n",
    "# Paso labels a categorias por no poder usar strings\n",
    "labels = pd.Categorical(labels_64, categories = category_labels).codes\n",
    "# print(\"Labels\", labels)\n",
    "\n",
    "test_size_len = int(len(data)*0.2)  # Separo 80/20\n",
    "\n",
    "train_data, test_data, train_labels, test_labels = train_test_split(data, labels, test_size = test_size_len, random_state = 100, \n",
    "                                                                stratify = labels_64)\n",
    "\n",
    "train_labels = to_categorical(train_labels)\n",
    "test_labels = to_categorical(test_labels)\n",
    "\n",
    "print(\"Train Data: \", train_data.shape, train_labels.shape)\n",
    "print(\"Test Data: \", test_data.shape, test_labels.shape)\n",
    "\n",
    "np.save('{}/y_test.npy'.format(OUTPUT_FOLDER), test_labels)\n",
    "np.save('{}/X_test.npy'.format(OUTPUT_FOLDER), test_data)\n",
    "\n",
    "le = LabelEncoder()\n",
    "le.fit_transform(labels)\n",
    "np.save('{}/classes.npy'.format(OUTPUT_FOLDER), le.classes_, allow_pickle=True)"
   ]
  },
  {
   "cell_type": "markdown",
   "id": "eaf75fc4",
   "metadata": {},
   "source": [
    "## Visualización\n",
    "Agrego visualizacion de 3 samples"
   ]
  },
  {
   "cell_type": "code",
   "execution_count": null,
   "id": "9e5f68ee",
   "metadata": {},
   "outputs": [],
   "source": [
    "plt.figure()\n",
    "plt.plot(data[0], label=category_labels[labels[0]])\n",
    "plt.legend()\n",
    "\n",
    "plt.figure()\n",
    "plt.plot(data[int(len(data)*0.4)], label=category_labels[labels[int(len(data)*0.4)]])\n",
    "plt.legend()\n",
    "\n",
    "plt.figure()\n",
    "plt.plot(data[int(len(data)*0.8)], label=category_labels[labels[int(len(data)*0.8)]])\n",
    "plt.legend()"
   ]
  },
  {
   "cell_type": "markdown",
   "id": "a314022b",
   "metadata": {},
   "source": [
    "## Modelo"
   ]
  },
  {
   "cell_type": "code",
   "execution_count": 28,
   "id": "ed758dbe",
   "metadata": {},
   "outputs": [],
   "source": [
    "#64 -> 40 -> 5\n",
    "def create_model(int_bits=2, n_bits=12, internal_layers_shape=[40]):\n",
    "    \"\"\"\n",
    "    @layers_shape: Me agrega las layers intermedias de la red. Salida siempre 5. \n",
    "                   Entrada siempre segun el shape de la data\n",
    "    \"\"\" \n",
    "    \n",
    "    k_inic = random.choice([\"lecun_uniform\"]) #'glorot_uniform'\n",
    "    kernel_quantizer = quantized_bits(n_bits,int_bits,alpha=1)\n",
    "    bias_quantizer = quantized_bits(n_bits,int_bits,alpha=1)\n",
    "    kernel_regularizer = l1(0.0001)\n",
    "    \n",
    "    model = Sequential()\n",
    "\n",
    "    for layer_ in internal_layers_shape:\n",
    "        model.add(QDense(layer_, kernel_quantizer=kernel_quantizer, \n",
    "                        bias_quantizer=bias_quantizer,\n",
    "                        kernel_initializer=k_inic, \n",
    "                        kernel_regularizer=kernel_regularizer,\n",
    "                        name=\"input_dense_{}\".format(layer_)))\n",
    "        model.add(QActivation(activation=quantized_relu(n_bits), name=\"Relu_{}\".format(layer_)))\n",
    "\n",
    "    model.add(QDense(5, kernel_quantizer=kernel_quantizer, \n",
    "                    bias_quantizer=bias_quantizer,\n",
    "                    kernel_initializer=k_inic, \n",
    "                    kernel_regularizer=kernel_regularizer,\n",
    "                    name=\"out_dense\"))\n",
    "    model.add(QActivation(activation=quantized_relu(n_bits), name='softmax'))\n",
    "    opt = keras.optimizers.Adam()\n",
    "\n",
    "    #loss = random.choice([\"sparse_categorical_crossentropy\", \"mse\", \"categorical_crossentropy\", \"mean_absolute_error\", \"kld\"])\n",
    "    model.compile(loss=\"mse\", optimizer=opt, metrics=[\"accuracy\"])\n",
    "    model.build(input_shape=(None, DATA_LENGTH//factor))\n",
    "    return model"
   ]
  },
  {
   "cell_type": "markdown",
   "id": "a0d7ca69",
   "metadata": {},
   "source": [
    "### Uso GridSearch para parametros de la red"
   ]
  },
  {
   "cell_type": "markdown",
   "id": "6c537331",
   "metadata": {},
   "source": [
    "Se puede saltar este paso e ir directo al entrenamiento"
   ]
  },
  {
   "cell_type": "code",
   "execution_count": null,
   "id": "ba42301e",
   "metadata": {},
   "outputs": [],
   "source": [
    "# https://stackoverflow.com/questions/37161563/how-to-graph-grid-scores-from-gridsearchcv\n",
    "from sklearn.model_selection import GridSearchCV\n",
    "from sklearn.metrics import make_scorer\n",
    "from sklearn.metrics import accuracy_score, precision_score, recall_score\n",
    "from keras.wrappers.scikit_learn import KerasClassifier\n",
    "import time\n",
    "\n",
    "batch_size = 45\n",
    "epochs = 100\n",
    "\n",
    "model = KerasClassifier(build_fn=create_model, epochs=epochs, batch_size=batch_size, verbose=0)\n",
    "\n",
    "n_bits=[10,12,14,16]\n",
    "int_bits=[1]\n",
    "\n",
    "\n",
    "param_grid = dict(n_bits=n_bits, int_bits=int_bits)\n",
    "\n",
    "grid = GridSearchCV(estimator=model, param_grid=param_grid, n_jobs=-1, cv=5, verbose=1)\n",
    "grid_result = grid.fit(train_data, train_labels)\n",
    "\n",
    "# summarize results\n",
    "print(\"Best: %f using %s\\n\" % (grid_result.best_score_, grid_result.best_params_))\n",
    "\n",
    "means = grid_result.cv_results_['mean_test_score']\n",
    "stds = grid_result.cv_results_['std_test_score']\n",
    "params = grid_result.cv_results_['params']\n",
    "for mean, stdev, param in zip(means, stds, params):\n",
    "    print(\"Mean = %f (std=%f) with: %r\" % (mean, stdev, param))"
   ]
  },
  {
   "cell_type": "markdown",
   "id": "3c35f840",
   "metadata": {},
   "source": [
    "## Comienzo Entrenamiento\n",
    "\n",
    "Red: 64->40->5  Entra en Zybo. Overfitting?\n",
    "\n",
    "Red: 256-128-50-5 No entra en Zybo. Mejores Resultados"
   ]
  },
  {
   "cell_type": "code",
   "execution_count": 29,
   "id": "32ec9034",
   "metadata": {},
   "outputs": [
    {
     "name": "stdout",
     "output_type": "stream",
     "text": [
      "Comienzo Entrenamiento\n"
     ]
    },
    {
     "name": "stderr",
     "output_type": "stream",
     "text": [
      "/home/wozniak/.local/lib/python3.8/site-packages/keras/engine/base_layer.py:2223: UserWarning: `layer.add_variable` is deprecated and will be removed in a future version. Please use `layer.add_weight` method instead.\n",
      "  warnings.warn('`layer.add_variable` is deprecated and '\n"
     ]
    },
    {
     "name": "stdout",
     "output_type": "stream",
     "text": [
      "Model: \"sequential_6\"\n",
      "_________________________________________________________________\n",
      "Layer (type)                 Output Shape              Param #   \n",
      "=================================================================\n",
      "prune_low_magnitude_input_de (None, 40)                5162      \n",
      "_________________________________________________________________\n",
      "prune_low_magnitude_Relu_40  (None, 40)                1         \n",
      "_________________________________________________________________\n",
      "prune_low_magnitude_out_dens (None, 5)                 407       \n",
      "_________________________________________________________________\n",
      "prune_low_magnitude_softmax  (None, 5)                 1         \n",
      "=================================================================\n",
      "Total params: 5,571\n",
      "Trainable params: 2,805\n",
      "Non-trainable params: 2,766\n",
      "_________________________________________________________________\n",
      "Iteracion: 1, Accuracy: 0.8076, Time: 30.907501\n",
      "... quantizing model\n",
      "Accuracy QKeras: 0.8076\n",
      "\n"
     ]
    }
   ],
   "source": [
    "TOTAL_MODELS = 1  # Entreno 5 veces\n",
    "\n",
    "res = np.empty(TOTAL_MODELS)\n",
    "res[:] = np.nan\n",
    "max_res = 0\n",
    "BATCH_SIZE = 45\n",
    "EPOCHS = 200\n",
    "VALIDATION_SPLIT = 0.05  # Cantidad de datos que uso para validar entre epochs\n",
    "\n",
    "mean_fit_time = 0\n",
    "mean_fit_acc = 0\n",
    "\n",
    "opt = keras.optimizers.Adam()\n",
    "pruning_params = {\"pruning_schedule\" : pruning_schedule.ConstantSparsity(0.75, begin_step=2000, frequency=100)}\n",
    "\n",
    "INTERNAL_LAYERS_SHAPE = [40]\n",
    "# INTERNAL_LAYERS_SHAPE = [128, 50]\n",
    "\n",
    "train = True\n",
    "if train:\n",
    "    print(\"Comienzo Entrenamiento\")\n",
    "    for i in range(TOTAL_MODELS):\n",
    "        start_time = time.time()\n",
    "\n",
    "        model = prune.prune_low_magnitude(create_model(int_bits=2, n_bits=10, \n",
    "                                                        internal_layers_shape=INTERNAL_LAYERS_SHAPE), \n",
    "                                                        **pruning_params)  #4181 2105\n",
    "        model.compile(loss='mse', optimizer=opt, metrics=[\"accuracy\"])\n",
    "        model.summary()\n",
    "\n",
    "        callbacks = all_callbacks(stop_patience = 1000,\n",
    "                                lr_factor = 0.5,\n",
    "                                lr_patience = 10,\n",
    "                                lr_epsilon = 0.000001,\n",
    "                                lr_cooldown = 2,\n",
    "                                lr_minimum = 0.0000001,\n",
    "                                outputDir = '{}'.format(OUTPUT_FOLDER))\n",
    "        callbacks.callbacks.append(pruning_callbacks.UpdatePruningStep())\n",
    "\n",
    "        history = model.fit(train_data, train_labels, epochs = EPOCHS, batch_size = BATCH_SIZE, validation_split=VALIDATION_SPLIT, \n",
    "                            verbose = 0, callbacks = callbacks.callbacks)\n",
    "        model_time = time.time() - start_time\n",
    "        res[i] = model.evaluate(test_data, test_labels, batch_size = BATCH_SIZE, verbose = 0)[1]\n",
    "        print('Iteracion: {}, Accuracy: {:.4f}, Time: {:2f}'.format(i+1, np.max(res[i]), model_time))\n",
    "\n",
    "        mean_fit_time += model_time\n",
    "        mean_fit_acc += np.max(res[i])\n",
    "\n",
    "        model = strip_pruning(model)\n",
    "        model.save('{}/KERAS_check_best_model.h5'.format(OUTPUT_FOLDER))\n",
    "\n",
    "        if res[i] >= max_res:\n",
    "            max_res = res[i]\n",
    "            best_model = model\n",
    "            best_history = history\n",
    "\n",
    "    mean_fit_time /= TOTAL_MODELS\n",
    "    mean_fit_acc /= TOTAL_MODELS\n",
    "    model = best_model\n",
    "\n",
    "else:\n",
    "    print(\"Carga de modelo en disco\")\n",
    "    from qkeras.utils import _add_supported_quantized_objects\n",
    "    from tensorflow.keras.models import load_model\n",
    "    co = {}\n",
    "    _add_supported_quantized_objects(co)\n",
    "    model = load_model('{}/KERAS_check_best_model.h5'.format(OUTPUT_FOLDER), custom_objects=co)\n",
    "\n",
    "\n",
    "qweights = model_save_quantized_weights(model, \"{}/model_qweights.h5\".format(OUTPUT_FOLDER))\n",
    "\n",
    "y_keras = model.predict(test_data)\n",
    "np.save('{}/y_qkeras.npy'.format(OUTPUT_FOLDER), y_keras)\n",
    "print(\"Accuracy QKeras: {:.4f}\\n\".format(accuracy_score(np.argmax(test_labels, axis=1), np.argmax(y_keras, axis=1))))\n",
    "score_keras = accuracy_score(np.argmax(test_labels, axis=1), np.argmax(y_keras, axis=1))*100\n",
    "\n",
    "model.save('{}/model_{}_{:.2f}.h5'.format(OUTPUT_FOLDER, 1024//factor, score_keras))"
   ]
  },
  {
   "cell_type": "markdown",
   "id": "9e300c62",
   "metadata": {},
   "source": [
    "## Resultados"
   ]
  },
  {
   "cell_type": "code",
   "execution_count": 30,
   "id": "2530680c",
   "metadata": {
    "scrolled": true
   },
   "outputs": [
    {
     "data": {
      "image/png": "[encoded data removed]",
      "text/plain": [
       "<Figure size 576x432 with 2 Axes>"
      ]
     },
     "metadata": {
      "needs_background": "light"
     },
     "output_type": "display_data"
    }
   ],
   "source": [
    "from matplotlib.pyplot import figure\n",
    "\n",
    "history = best_history\n",
    "accuracy = history.history['accuracy']\n",
    "val_accuracy = history.history['val_accuracy']\n",
    "loss = history.history['loss']\n",
    "val_loss = history.history['val_loss']\n",
    "epochs = range(len(accuracy))\n",
    "\n",
    "fig, ((ax1, ax2)) = plt.subplots(2, 1, figsize=(8, 6))\n",
    "\n",
    "ax1.plot(epochs, accuracy, 'b', label='Presicion Entrenamiento')\n",
    "ax1.plot(epochs, val_accuracy, 'r', label='Presicion Validacion')\n",
    "ax1.set_title('Presicion')\n",
    "ax1.set_ylabel('Presicion %')\n",
    "# ax1.legend()\n",
    "# ax1.figure()\n",
    "\n",
    "ax2.plot(epochs, loss, 'b', label='Perdida entrenamiento')\n",
    "ax2.plot(epochs, val_loss, 'r', label='Perdida validacion')\n",
    "ax2.set_title('Perdidas')\n",
    "ax2.set_ylabel('Pérdidas, [mse]')\n",
    "\n",
    "plt.legend()\n",
    "plt.savefig('{}/zybo_{}.png'.format(OUTPUT_FOLDER, DATA_LENGTH))\n",
    "plt.show()"
   ]
  },
  {
   "cell_type": "code",
   "execution_count": 7,
   "id": "677e2c19",
   "metadata": {},
   "outputs": [
    {
     "data": {
      "image/png": "[encoded data removed]",
      "text/plain": [
       "<Figure size 432x288 with 1 Axes>"
      ]
     },
     "metadata": {
      "needs_background": "light"
     },
     "output_type": "display_data"
    }
   ],
   "source": [
    "prediction = model.predict(test_data)\n",
    "prediction_labels = list([])\n",
    "for each_prediction in prediction:\n",
    "    prediction_labels.append(list(each_prediction).index(max(each_prediction)))\n",
    "\n",
    "import seaborn as sns\n",
    "from sklearn.metrics import confusion_matrix\n",
    "\n",
    "true_labels = np.argmax(test_labels, axis = 1)\n",
    "matrix = confusion_matrix(true_labels, prediction_labels)\n",
    "\n",
    "matrix = pd.DataFrame(matrix)\n",
    "plt.figure()\n",
    "sns.heatmap(matrix, annot= True, fmt = \"d\",\n",
    "           xticklabels = category_labels,\n",
    "           yticklabels = category_labels, cmap = \"Blues\", cbar = False)\n",
    "plt.xticks(rotation = 90)\n",
    "plt.show()"
   ]
  },
  {
   "cell_type": "markdown",
   "id": "d125ea17",
   "metadata": {},
   "source": [
    "## Conversion a HLS\n",
    "\n",
    "Se crea el achivo HLS4ml.\n",
    "https://www.xilinx.com/support/documentation/sw_manuals/xilinx2012_2/ug902-vivado-high-level-synthesis.pdf#page=57"
   ]
  },
  {
   "cell_type": "code",
   "execution_count": 11,
   "id": "8673addb",
   "metadata": {
    "scrolled": true
   },
   "outputs": [
    {
     "name": "stdout",
     "output_type": "stream",
     "text": [
      "Interpreting Sequential\n",
      "Topology:\n",
      "Layer name: input_dense_40_input, layer type: Input\n",
      "Layer name: input_dense_40, layer type: QDense\n",
      "Layer name: Relu_40, layer type: QActivation\n",
      "Layer name: out_dense, layer type: QDense\n",
      "Layer name: softmax, layer type: QActivation\n",
      "Interpreting Sequential\n",
      "Topology:\n",
      "Layer name: input_dense_40_input, layer type: InputLayer, input shapes: [[None, 64]], output shape: [None, 64]\n",
      "Layer name: input_dense_40, layer type: QDense, input shapes: [[None, 64]], output shape: [None, 40]\n",
      "Layer name: Relu_40, layer type: Activation, input shapes: [[None, 40]], output shape: [None, 40]\n",
      "Layer name: out_dense, layer type: QDense, input shapes: [[None, 40]], output shape: [None, 5]\n",
      "Layer name: softmax, layer type: Activation, input shapes: [[None, 5]], output shape: [None, 5]\n",
      "Creating HLS model\n",
      "WARNING: Invalid ReuseFactor=4000 with \"Resource\" strategy in layer \"input_dense_40\". Using ReuseFactor=2560 instead. Valid ReuseFactor(s): 2,4,8,16,32,64,128,256,320,512,640,1280,2560.\n",
      "WARNING: Invalid ReuseFactor=4000 with \"Resource\" strategy in layer \"out_dense\". Using ReuseFactor=200 instead. Valid ReuseFactor(s): 2,4,5,8,10,20,40,200.\n",
      "Writing HLS project\n",
      "Done\n",
      "\n",
      "Accuracy QKeras: 0.8066\n",
      "Accuracy HLS4ML: 0.7588\n",
      "HLS_Score: 75.87890625%\n",
      "\n"
     ]
    }
   ],
   "source": [
    "import hls4ml\n",
    "\n",
    "hls4ml.model.optimizer.OutputRoundingSaturationMode.layers = ['Activation']\n",
    "hls4ml.model.optimizer.OutputRoundingSaturationMode.rounding_mode = 'AP_RND'\n",
    "hls4ml.model.optimizer.OutputRoundingSaturationMode.saturation_mode = 'AP_SAT'\n",
    "\n",
    "config = hls4ml.utils.config_from_keras_model(model, granularity='name')\n",
    "\n",
    "precision = \"ap_fixed<16,6>\"\n",
    "resource = 4000\n",
    "\n",
    "config['Model'] = {}\n",
    "config['Model']['ReuseFactor'] = resource\n",
    "config['Model']['Strategy'] = 'Resource'\n",
    "config['Model']['Precision'] = precision\n",
    "\n",
    "for Layer in model.layers:\n",
    "    if isinstance(Layer, tf.keras.layers.Flatten):\n",
    "        config['LayerName'][Layer.name] = {}\n",
    "    config['LayerName'][Layer.name]['Precision'] = precision\n",
    "    config[\"LayerName\"][Layer.name][\"ReuseFactor\"] = resource\n",
    "    config[\"LayerName\"][Layer.name][\"Strategy\"] = 'Resource'\n",
    "\n",
    "\n",
    "input_data = os.path.join(os.getcwd(), '{}/X_test.npy'.format(OUTPUT_FOLDER))\n",
    "output_predictions = os.path.join(os.getcwd(), '{}/y_qkeras.npy'.format(OUTPUT_FOLDER))\n",
    "\n",
    "input_data_tb = \"{}/X_test.npy\".format(OUTPUT_FOLDER)\n",
    "output_data_tb = \"{}/y_test.npy\".format(OUTPUT_FOLDER)\n",
    "\n",
    "io_type = 'io_parallel'  # io_parallel or io_stream\n",
    "\n",
    "hls_model = hls4ml.converters.convert_from_keras_model(model=model, backend='VivadoAccelerator', io_type=io_type, board='zybo-z7010', part='xc7z010clg400-1',\n",
    "                                    hls_config=config, output_dir=\"{}\".format(OUTPUT_FOLDER), input_data_tb=input_data_tb, output_data_tb=output_data_tb)\n",
    "\n",
    "#hls_model = convert_from_keras_model(model=model, backend='VivadoAccelerator', io_type=io_type, board='zcu102',# part='xc7z010clg400-1',\n",
    "#                                    hls_config=config, output_dir=\"{}\".format(OUTPUT_FOLDER), input_data_tb=input_data_tb, output_data_tb=output_data_tb)\n",
    "\n",
    "hls_model.compile()\n",
    "\n",
    "y_keras = model.predict(test_data)\n",
    "y_hls = hls_model.predict(test_data)\n",
    "\n",
    "np.save(\"{}/y_hls.npy\".format(OUTPUT_FOLDER), y_hls)\n",
    "\n",
    "print(\"\\nAccuracy QKeras: {:.4f}\".format(accuracy_score(np.argmax(test_labels, axis=1), np.argmax(y_keras, axis=1))))\n",
    "print(\"Accuracy HLS4ML: {:.4f}\".format(accuracy_score(np.argmax(test_labels, axis=1), np.argmax(y_hls, axis=1))))\n",
    "\n",
    "score_hls = accuracy_score(np.argmax(test_labels, axis=1), np.argmax(y_hls, axis=1))*100\n",
    "print(\"HLS_Score: {}%\\n\".format(score_hls))\n",
    "\n",
    "for layer in INTERNAL_LAYERS_SHAPE:\n",
    "    assert((hls_model.get_weights_data(\"input_dense_{}\".format(layer), \"kernel\") == qweights[\"input_dense_{}\".format(layer)][\"weights\"][0]).all())\n",
    "assert((hls_model.get_weights_data(\"out_dense\", \"kernel\") == qweights[\"out_dense\"][\"weights\"][0]).all())"
   ]
  },
  {
   "cell_type": "markdown",
   "id": "e8ed45c0",
   "metadata": {},
   "source": [
    "## Sintesis de Vivado"
   ]
  },
  {
   "cell_type": "markdown",
   "id": "05c40d09",
   "metadata": {},
   "source": [
    "#### Compilo HLS y armo proyecto vivado"
   ]
  },
  {
   "cell_type": "code",
   "execution_count": null,
   "id": "b78849dc",
   "metadata": {},
   "outputs": [],
   "source": [
    "hls_model.build(csim=False, synth=True, export=True)\n",
    "hls4ml.report.read_vivado_report('{}/'.format(OUTPUT_FOLDER))\n",
    "\n",
    "print(\"Accuracy QKeras: {:.4f}\".format(accuracy_score(np.argmax(test_labels, axis=1), np.argmax(y_keras, axis=1))))\n",
    "print(\"Accuracy HLS4ML: {:.4f}\".format(accuracy_score(np.argmax(test_labels, axis=1), np.argmax(y_hls, axis=1))))"
   ]
  },
  {
   "cell_type": "markdown",
   "id": "ff8ea1b9",
   "metadata": {},
   "source": [
    "#### Genero bitfile para la FPGA\n",
    "Falta incluir a mano I2C"
   ]
  },
  {
   "cell_type": "code",
   "execution_count": null,
   "id": "586faab0",
   "metadata": {},
   "outputs": [],
   "source": [
    "hls4ml.templates.VivadoAcceleratorBackend.make_bitfile(hls_model)"
   ]
  }
 ],
 "metadata": {
  "kernelspec": {
   "display_name": "Python 3 (ipykernel)",
   "language": "python",
   "name": "python3"
  },
  "language_info": {
   "codemirror_mode": {
    "name": "ipython",
    "version": 3
   },
   "file_extension": ".py",
   "mimetype": "text/x-python",
   "name": "python",
   "nbconvert_exporter": "python",
   "pygments_lexer": "ipython3",
   "version": "3.8.10"
  }
 },
 "nbformat": 4,
 "nbformat_minor": 5
}
